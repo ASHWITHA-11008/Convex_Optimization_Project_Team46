{
  "nbformat": 4,
  "nbformat_minor": 0,
  "metadata": {
    "colab": {
      "provenance": []
    },
    "kernelspec": {
      "name": "python3",
      "display_name": "Python 3"
    },
    "language_info": {
      "name": "python"
    }
  },
  "cells": [
    {
      "cell_type": "code",
      "execution_count": 1,
      "metadata": {
        "colab": {
          "base_uri": "https://localhost:8080/",
          "height": 356
        },
        "id": "5PmSoVaAiMtG",
        "outputId": "fd4bd6dd-b074-4d02-caa8-6951ae18010d"
      },
      "outputs": [
        {
          "output_type": "error",
          "ename": "ZeroDivisionError",
          "evalue": "ignored",
          "traceback": [
            "\u001b[0;31m---------------------------------------------------------------------------\u001b[0m",
            "\u001b[0;31mZeroDivisionError\u001b[0m                         Traceback (most recent call last)",
            "\u001b[0;32m<ipython-input-1-10e949348908>\u001b[0m in \u001b[0;36m<cell line: 60>\u001b[0;34m()\u001b[0m\n\u001b[1;32m     58\u001b[0m \u001b[0;31m# Solve GPSR problem\u001b[0m\u001b[0;34m\u001b[0m\u001b[0;34m\u001b[0m\u001b[0m\n\u001b[1;32m     59\u001b[0m \u001b[0mlambda_\u001b[0m \u001b[0;34m=\u001b[0m \u001b[0msigma\u001b[0m \u001b[0;34m*\u001b[0m \u001b[0mnp\u001b[0m\u001b[0;34m.\u001b[0m\u001b[0msqrt\u001b[0m\u001b[0;34m(\u001b[0m\u001b[0;36m2\u001b[0m \u001b[0;34m*\u001b[0m \u001b[0mnp\u001b[0m\u001b[0;34m.\u001b[0m\u001b[0mlog\u001b[0m\u001b[0;34m(\u001b[0m\u001b[0mn\u001b[0m\u001b[0;34m)\u001b[0m\u001b[0;34m)\u001b[0m  \u001b[0;31m# regularization parameter\u001b[0m\u001b[0;34m\u001b[0m\u001b[0;34m\u001b[0m\u001b[0m\n\u001b[0;32m---> 60\u001b[0;31m \u001b[0mx_gpsr\u001b[0m \u001b[0;34m=\u001b[0m \u001b[0mgpsr\u001b[0m\u001b[0;34m(\u001b[0m\u001b[0mA\u001b[0m\u001b[0;34m,\u001b[0m \u001b[0my\u001b[0m\u001b[0;34m,\u001b[0m \u001b[0mlambda_\u001b[0m\u001b[0;34m)\u001b[0m\u001b[0;34m\u001b[0m\u001b[0;34m\u001b[0m\u001b[0m\n\u001b[0m\u001b[1;32m     61\u001b[0m \u001b[0;34m\u001b[0m\u001b[0m\n\u001b[1;32m     62\u001b[0m \u001b[0;31m# Solve BP problem\u001b[0m\u001b[0;34m\u001b[0m\u001b[0;34m\u001b[0m\u001b[0m\n",
            "\u001b[0;32m<ipython-input-1-10e949348908>\u001b[0m in \u001b[0;36mgpsr\u001b[0;34m(A, y, lambda_, tol, max_iter)\u001b[0m\n\u001b[1;32m     35\u001b[0m         \u001b[0mt\u001b[0m \u001b[0;34m*=\u001b[0m \u001b[0;36m1.01\u001b[0m\u001b[0;34m\u001b[0m\u001b[0;34m\u001b[0m\u001b[0m\n\u001b[1;32m     36\u001b[0m         \u001b[0miter\u001b[0m \u001b[0;34m+=\u001b[0m \u001b[0;36m1\u001b[0m\u001b[0;34m\u001b[0m\u001b[0;34m\u001b[0m\u001b[0m\n\u001b[0;32m---> 37\u001b[0;31m         \u001b[0mresidual\u001b[0m \u001b[0;34m=\u001b[0m \u001b[0mnorm\u001b[0m\u001b[0;34m(\u001b[0m\u001b[0mx\u001b[0m \u001b[0;34m-\u001b[0m \u001b[0mx_old\u001b[0m\u001b[0;34m)\u001b[0m \u001b[0;34m/\u001b[0m \u001b[0mnorm\u001b[0m\u001b[0;34m(\u001b[0m\u001b[0mx_old\u001b[0m\u001b[0;34m)\u001b[0m\u001b[0;34m\u001b[0m\u001b[0;34m\u001b[0m\u001b[0m\n\u001b[0m\u001b[1;32m     38\u001b[0m     \u001b[0;32mreturn\u001b[0m \u001b[0mx\u001b[0m\u001b[0;34m\u001b[0m\u001b[0;34m\u001b[0m\u001b[0m\n\u001b[1;32m     39\u001b[0m \u001b[0;34m\u001b[0m\u001b[0m\n",
            "\u001b[0;31mZeroDivisionError\u001b[0m: float division by zero"
          ]
        }
      ],
      "source": [
        "import numpy as np\n",
        "from scipy.linalg import norm\n",
        "import matplotlib.pyplot as plt\n",
        "\n",
        "# Define OMP function\n",
        "def omp(A, y, k):\n",
        "    n, p = A.shape\n",
        "    x = np.zeros(p)\n",
        "    r = y.copy()\n",
        "    idx = np.zeros(k, dtype=int)\n",
        "    for i in range(k):\n",
        "        idx[i] = np.argmax(np.abs(np.dot(A.T, r)))\n",
        "        x_new = np.zeros(p)\n",
        "        x_new[idx[:i+1]] = np.dot(np.linalg.pinv(A[:, idx[:i+1]]), y)\n",
        "        r = y - np.dot(A, x_new)\n",
        "        normr = norm(r)\n",
        "        if normr < 1e-6:\n",
        "            break\n",
        "    return x_new\n",
        "\n",
        "# Define GPSR function\n",
        "def gpsr(A, y, lambda_, tol=1e-5, max_iter=1000):\n",
        "    x = np.zeros(A.shape[1])\n",
        "    z = np.zeros(A.shape[1])\n",
        "    t = 1.0\n",
        "    iter = 0\n",
        "    residual = np.inf\n",
        "    while residual > tol and iter < max_iter:\n",
        "        x_old = x.copy()\n",
        "        z_old = z.copy()\n",
        "        grad = np.dot(A.T, np.dot(A, x) - y) + lambda_ * np.sign(z)\n",
        "        z -= t * grad\n",
        "        x = z[:A.shape[1]]\n",
        "        z[A.shape[1]:] = np.maximum(np.abs(z[A.shape[1]:]) - lambda_ * t, 0) * np.sign(z[A.shape[1]:])\n",
        "        t *= 1.01\n",
        "        iter += 1\n",
        "        residual = norm(x - x_old) / norm(x_old)\n",
        "    return x\n",
        "\n",
        "# Generate random sparse signal\n",
        "n = 100  # signal length\n",
        "k = 10  # sparsity level\n",
        "x = np.zeros(n)\n",
        "x[:k] = np.random.randn(k)\n",
        "\n",
        "# Generate measurement matrix\n",
        "m = 50  # number of measurements\n",
        "A = np.random.randn(m, n)\n",
        "\n",
        "# Generate noisy measurements\n",
        "sigma = 0.1  # noise level\n",
        "e = sigma * np.random.randn(m)\n",
        "y = np.dot(A, x) + e\n",
        "\n",
        "# Solve OMP problem\n",
        "x_omp = omp(A, y, k)\n",
        "\n",
        "# Solve GPSR problem\n",
        "lambda_ = sigma * np.sqrt(2 * np.log(n))  # regularization parameter\n",
        "x_gpsr = gpsr(A, y, lambda_)\n",
        "\n",
        "# Solve BP problem\n",
        "from cvxpy import Variable, Problem, Minimize, norm1\n",
        "x_bp = Variable(n)\n",
        "prob = Problem(Minimize(norm1(x_bp)), [A @ x_bp == y])\n",
        "prob.solve()\n",
        "\n",
        "# Print results\n",
        "print(\"Original signal: \", x)\n",
        "print(\"Recovered signal (OMP):\", x_omp)\n",
        "print(\"Error (OMP):\", norm(x - x_omp))\n",
        "print(\"Recovered signal (GPSR):\", x_gpsr)\n",
        "print(\"Error (GPSR):\", norm(x - x_gpsr))\n",
        "print(\"Recovered signal (BP):\", x_bp.value)\n",
        "print(\"Error (BP):\", norm(x - x_bp.value))\n",
        "\n",
        "# Plot results\n",
        "fig, ax = plt.subplots()\n",
        "ax.plot(x, label='Original signal')\n",
        "ax.plot(x_omp, label='OMP')\n",
        "ax.plot(x_gpsr, label='GPSR')\n",
        "ax.plot(x_bp.value, label='BP')\n",
        "ax.legend()\n"
      ]
    }
  ]
}